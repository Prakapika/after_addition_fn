{
 "cells": [
  {
   "cell_type": "code",
   "execution_count": null,
   "id": "b373ee5e",
   "metadata": {},
   "outputs": [],
   "source": [
    "def addition(num):\n",
    "  after_addition = 0\n",
    "  for i in num:\n",
    "    after_addition += i\n",
    "  return after_addition\n",
    "addition([8,2,3,0,7])"
   ]
  },
  {
   "cell_type": "code",
   "execution_count": null,
   "id": "a8cda35f",
   "metadata": {},
   "outputs": [],
   "source": []
  }
 ],
 "metadata": {},
 "nbformat": 4,
 "nbformat_minor": 5
}
